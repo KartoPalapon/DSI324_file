{
 "cells": [
  {
   "cell_type": "code",
   "execution_count": 1,
   "id": "ce283a11",
   "metadata": {},
   "outputs": [
    {
     "name": "stdout",
     "output_type": "stream",
     "text": [
      "⚠️ Skipped: careers_extracted.csv - 'curr_id' not found.\n",
      "✅ Updated: courses เสร็จละนาย.csv | Removed 0 rows.\n",
      "⚠️ Skipped: courses_extracted.csv - 'curr_id' not found.\n",
      "✅ Updated: curriculum_metadata.csv | Removed 0 rows.\n",
      "⚠️ Skipped: PLOs_extracted.csv - 'curr_id' not found.\n",
      "⚠️ Skipped: professors_extracted.csv - 'curr_id' not found.\n"
     ]
    }
   ],
   "source": [
    "import pandas as pd\n",
    "import os\n",
    "import glob\n",
    "\n",
    "# Path ไปยังโฟลเดอร์ที่เก็บไฟล์ CSV\n",
    "folder_path = r'C:\\DSI324_file\\data'\n",
    "\n",
    "# รายการ curr_id ที่ต้องการลบ\n",
    "bad_ids = [\"qqqqqqqqqqqqqq\", \"dddddddddddddd\", \"aaaaaaaaaaaaaa\", \"ssssssssssssss\"]\n",
    "\n",
    "# หาไฟล์ CSV ทั้งหมดในโฟลเดอร์\n",
    "csv_files = glob.glob(os.path.join(folder_path, '*.csv'))\n",
    "\n",
    "# วนลูปทำกับทุกไฟล์\n",
    "for file in csv_files:\n",
    "    try:\n",
    "        df = pd.read_csv(file)\n",
    "\n",
    "        if 'curr_id' in df.columns:\n",
    "            original_len = len(df)\n",
    "            df = df[~df['curr_id'].astype(str).isin(bad_ids)]\n",
    "            removed = original_len - len(df)\n",
    "\n",
    "            # Save กลับทับไฟล์เดิม\n",
    "            df.to_csv(file, index=False, encoding='utf-8-sig')\n",
    "            print(f\"✅ Updated: {os.path.basename(file)} | Removed {removed} rows.\")\n",
    "        else:\n",
    "            print(f\"⚠️ Skipped: {os.path.basename(file)} - 'curr_id' not found.\")\n",
    "    except Exception as e:\n",
    "        print(f\"❌ Error processing {file}: {e}\")\n"
   ]
  },
  {
   "cell_type": "code",
   "execution_count": 18,
   "id": "d96fe504",
   "metadata": {},
   "outputs": [
    {
     "name": "stdout",
     "output_type": "stream",
     "text": [
      "✅ No missing in file: careers_extracted.csv\n",
      "✅ No missing in file: courses.csv\n",
      "🔍 Missing found in file: courses_extracted.csv\n",
      "course_code         84\n",
      "th_abv               3\n",
      "course_name_th      74\n",
      "course_name_en      74\n",
      "course_type       2487\n",
      "course_credit       71\n",
      "lect_hours          71\n",
      "practice_hours      71\n",
      "self_hours           1\n",
      "th_course           81\n",
      "en_course           91\n",
      "dtype: int64\n",
      "----------------------------------------\n",
      "✅ No missing in file: curriculum_metadata.csv\n",
      "✅ No missing in file: matched_curr_ids.csv\n",
      "✅ No missing in file: metadata_missing_courses.csv\n",
      "✅ No missing in file: PLOs_extracted.csv\n",
      "✅ No missing in file: professors_extracted.csv\n"
     ]
    }
   ],
   "source": [
    "import pandas as pd\n",
    "import os\n",
    "import glob\n",
    "\n",
    "# Path ของโฟลเดอร์ที่เก็บ CSV\n",
    "folder_path = r'C:\\DSI324_file\\data'\n",
    "\n",
    "# ค้นหาไฟล์ .csv ทั้งหมดใน path\n",
    "csv_files = glob.glob(os.path.join(folder_path, '*.csv'))\n",
    "\n",
    "# วนลูปตรวจสอบแต่ละไฟล์\n",
    "for file in csv_files:\n",
    "    try:\n",
    "        df = pd.read_csv(file)\n",
    "\n",
    "        # เช็คว่ามี missing หรือไม่\n",
    "        missing = df.isnull().sum()\n",
    "        missing = missing[missing > 0]  # เอาเฉพาะที่มี missing\n",
    "\n",
    "        if not missing.empty:\n",
    "            print(f\"🔍 Missing found in file: {os.path.basename(file)}\")\n",
    "            print(missing)\n",
    "            print(\"-\" * 40)\n",
    "        else:\n",
    "            print(f\"✅ No missing in file: {os.path.basename(file)}\")\n",
    "    except Exception as e:\n",
    "        print(f\"❌ Error reading {file}: {e}\")\n"
   ]
  },
  {
   "cell_type": "code",
   "execution_count": 3,
   "id": "5a15e010",
   "metadata": {},
   "outputs": [
    {
     "name": "stdout",
     "output_type": "stream",
     "text": [
      "✅ No 'Unnamed: 0' in careers_extracted.csv\n",
      "✅ No 'Unnamed: 0' in courses เสร็จละนาย.csv\n",
      "✅ No 'Unnamed: 0' in courses_extracted.csv\n",
      "✅ No 'Unnamed: 0' in curriculum_metadata.csv\n",
      "✅ No 'Unnamed: 0' in PLOs_extracted.csv\n",
      "✅ No 'Unnamed: 0' in professors_extracted.csv\n"
     ]
    }
   ],
   "source": [
    "import pandas as pd\n",
    "import os\n",
    "import glob\n",
    "\n",
    "# Path ไปยังโฟลเดอร์ที่เก็บไฟล์ CSV\n",
    "folder_path = r'C:\\DSI324_file\\data'\n",
    "\n",
    "# ค้นหาไฟล์ CSV ทั้งหมด\n",
    "csv_files = glob.glob(os.path.join(folder_path, '*.csv'))\n",
    "\n",
    "# วนลูปแต่ละไฟล์\n",
    "for file in csv_files:\n",
    "    try:\n",
    "        df = pd.read_csv(file)\n",
    "\n",
    "        if 'Unnamed: 0' in df.columns:\n",
    "            df.drop(columns=['Unnamed: 0'], inplace=True)\n",
    "            df.to_csv(file, index=False, encoding='utf-8-sig')\n",
    "            print(f\"🧹 Removed 'Unnamed: 0' from {os.path.basename(file)}\")\n",
    "        else:\n",
    "            print(f\"✅ No 'Unnamed: 0' in {os.path.basename(file)}\")\n",
    "    except Exception as e:\n",
    "        print(f\"❌ Error processing {file}: {e}\")\n"
   ]
  },
  {
   "cell_type": "code",
   "execution_count": 32,
   "id": "dd1b610e",
   "metadata": {},
   "outputs": [
    {
     "name": "stdout",
     "output_type": "stream",
     "text": [
      "⚠️ No 'prerequisite' column in careers_extracted.csv\n",
      "✅ Filled 71 missing in 'prerequisite' in courses_extracted.csv\n",
      "⚠️ No 'prerequisite' column in curriculum_metadata.csv\n",
      "⚠️ No 'prerequisite' column in PLOs_extracted.csv\n",
      "⚠️ No 'prerequisite' column in professors_extracted.csv\n"
     ]
    },
    {
     "name": "stderr",
     "output_type": "stream",
     "text": [
      "C:\\Users\\U s e r\\AppData\\Local\\Temp\\ipykernel_20080\\3842487835.py:17: FutureWarning: A value is trying to be set on a copy of a DataFrame or Series through chained assignment using an inplace method.\n",
      "The behavior will change in pandas 3.0. This inplace method will never work because the intermediate object on which we are setting values always behaves as a copy.\n",
      "\n",
      "For example, when doing 'df[col].method(value, inplace=True)', try using 'df.method({col: value}, inplace=True)' or df[col] = df[col].method(value) instead, to perform the operation inplace on the original object.\n",
      "\n",
      "\n",
      "  df['prerequisite'].fillna(\"ไม่มี\", inplace=True)\n"
     ]
    }
   ],
   "source": [
    "import pandas as pd\n",
    "import os\n",
    "import glob\n",
    "\n",
    "# Path ไปยังโฟลเดอร์ที่เก็บ CSV\n",
    "folder_path = r'C:\\DSI324_file\\data'\n",
    "\n",
    "# หาไฟล์ CSV ทั้งหมด\n",
    "csv_files = glob.glob(os.path.join(folder_path, '*.csv'))\n",
    "\n",
    "for file in csv_files:\n",
    "    try:\n",
    "        df = pd.read_csv(file)\n",
    "\n",
    "        if 'prerequisite' in df.columns:\n",
    "            missing_count = df['prerequisite'].isna().sum()\n",
    "            df['prerequisite'].fillna(\"ไม่มี\", inplace=True)\n",
    "            df.to_csv(file, index=False, encoding='utf-8-sig')\n",
    "            print(f\"✅ Filled {missing_count} missing in 'prerequisite' in {os.path.basename(file)}\")\n",
    "        else:\n",
    "            print(f\"⚠️ No 'prerequisite' column in {os.path.basename(file)}\")\n",
    "    except Exception as e:\n",
    "        print(f\"❌ Error processing {file}: {e}\")\n"
   ]
  },
  {
   "cell_type": "code",
   "execution_count": 4,
   "id": "a96fe378",
   "metadata": {},
   "outputs": [
    {
     "name": "stdout",
     "output_type": "stream",
     "text": [
      "⚠️ Skipped: careers_extracted.csv - No 'curr_id' column found\n",
      "✅ Updated: courses เสร็จละนาย.csv | Removed 2682 rows\n",
      "⚠️ Skipped: courses_extracted.csv - No 'curr_id' column found\n",
      "⚠️ Skipped: PLOs_extracted.csv - No 'curr_id' column found\n",
      "⚠️ Skipped: professors_extracted.csv - No 'curr_id' column found\n"
     ]
    }
   ],
   "source": [
    "import pandas as pd\n",
    "import os\n",
    "import glob\n",
    "\n",
    "# --- Paths ---\n",
    "folder_path = r'C:\\DSI324_file\\data'\n",
    "metadata_file = os.path.join(folder_path, 'curriculum_metadata.csv')\n",
    "\n",
    "# --- Load curriculum_metadata.csv ---\n",
    "try:\n",
    "    meta_df = pd.read_csv(metadata_file)\n",
    "    valid_curr_ids = set(meta_df['curr_id'].astype(str))\n",
    "except Exception as e:\n",
    "    print(f\"❌ Error loading curriculum_metadata.csv: {e}\")\n",
    "    valid_curr_ids = set()\n",
    "\n",
    "# --- Process other CSV files ---\n",
    "csv_files = glob.glob(os.path.join(folder_path, '*.csv'))\n",
    "\n",
    "for file in csv_files:\n",
    "    if 'curriculum_metadata.csv' in file:\n",
    "        continue  # ข้ามไฟล์ metadata เอง\n",
    "\n",
    "    try:\n",
    "        df = pd.read_csv(file)\n",
    "\n",
    "        if 'curr_id' in df.columns:\n",
    "            original_len = len(df)\n",
    "            df = df[df['curr_id'].astype(str).isin(valid_curr_ids)]\n",
    "            removed = original_len - len(df)\n",
    "            df.to_csv(file, index=False, encoding='utf-8-sig')\n",
    "            print(f\"✅ Updated: {os.path.basename(file)} | Removed {removed} rows\")\n",
    "        else:\n",
    "            print(f\"⚠️ Skipped: {os.path.basename(file)} - No 'curr_id' column found\")\n",
    "    except Exception as e:\n",
    "        print(f\"❌ Error processing {file}: {e}\")\n"
   ]
  },
  {
   "cell_type": "code",
   "execution_count": 18,
   "id": "d1e23b13",
   "metadata": {},
   "outputs": [
    {
     "name": "stdout",
     "output_type": "stream",
     "text": [
      "✅ ลบแถวที่มี missing value เรียบร้อยแล้ว\n"
     ]
    }
   ],
   "source": [
    "import pandas as pd\n",
    "\n",
    "# โหลดไฟล์ CSV\n",
    "df = pd.read_csv(\"C:/DSI324_file/data/curriculum_metadata.csv\")\n",
    "\n",
    "# ลบแถวที่มี missing (NaN) อย่างน้อย 1 ค่า\n",
    "df_cleaned = df.dropna()\n",
    "\n",
    "# บันทึกกลับไปที่ไฟล์ใหม่ หรือไฟล์เดิม\n",
    "df_cleaned.to_csv(\"C:/DSI324_file/data/curriculum_metadata_cleaned.csv\", index=False, encoding=\"utf-8-sig\")\n",
    "\n",
    "print(\"✅ ลบแถวที่มี missing value เรียบร้อยแล้ว\")\n"
   ]
  },
  {
   "cell_type": "code",
   "execution_count": 22,
   "id": "92f3dad8",
   "metadata": {},
   "outputs": [
    {
     "name": "stdout",
     "output_type": "stream",
     "text": [
      "✅ สร้างและแทนที่ 'lect_id' เรียบร้อยแล้ว\n"
     ]
    }
   ],
   "source": [
    "import pandas as pd\n",
    "import random\n",
    "\n",
    "# โหลดไฟล์\n",
    "file_path = r'C:\\DSI324_file\\data\\responsible_lectures.csv'\n",
    "df = pd.read_csv(file_path)\n",
    "\n",
    "# ตรวจสอบว่ามีคอลัมน์ที่จำเป็นหรือไม่\n",
    "if 'faculty_id' not in df.columns or 'lect_id' not in df.columns:\n",
    "    raise KeyError(\"⚠️ ต้องมีทั้ง 'faculty_id' และ 'lect_id' ในไฟล์\")\n",
    "\n",
    "# สร้าง lect_id ใหม่ตาม faculty_id + สุ่มเลข 3 หลัก\n",
    "def generate_lect_id(faculty_id):\n",
    "    try:\n",
    "        faculty_str = str(int(faculty_id)).zfill(1)  # เอาเฉพาะเลขตัวหน้า\n",
    "        random_digits = str(random.randint(0, 999)).zfill(3)\n",
    "        return faculty_str + random_digits\n",
    "    except:\n",
    "        return \"0000\"\n",
    "\n",
    "df['lect_id'] = df['faculty_id'].apply(generate_lect_id)\n",
    "\n",
    "# บันทึกไฟล์ทับเดิม (หรือตั้งชื่อใหม่ก็ได้)\n",
    "df.to_csv(file_path, index=False, encoding='utf-8-sig')\n",
    "\n",
    "print(\"✅ สร้างและแทนที่ 'lect_id' เรียบร้อยแล้ว\")\n"
   ]
  },
  {
   "cell_type": "code",
   "execution_count": 23,
   "id": "dade16c1",
   "metadata": {},
   "outputs": [
    {
     "name": "stdout",
     "output_type": "stream",
     "text": [
      "✅ Saved to professors_extracted.csv\n"
     ]
    }
   ],
   "source": [
    "import pandas as pd\n",
    "\n",
    "# 📂 โหลดไฟล์\n",
    "lectures_path = r'C:\\DSI324_file\\data\\responsible_lectures.csv'\n",
    "metadata_path = r'C:\\DSI324_file\\data\\curriculum_metadata.csv'\n",
    "output_path = r'C:\\DSI324_file\\data\\professors_extracted.csv'\n",
    "\n",
    "# 🧠 อ่านไฟล์\n",
    "lect_df = pd.read_csv(lectures_path)\n",
    "meta_df = pd.read_csv(metadata_path)\n",
    "\n",
    "# 🧩 Join ด้วย curr_id\n",
    "merged_df = lect_df.merge(meta_df[['curr_id', 'cur_name_th', 'faculty_name_th']], on='curr_id', how='left')\n",
    "\n",
    "# 🧹 เลือกเฉพาะคอลัมน์ที่ต้องการ\n",
    "final_df = merged_df[[\n",
    "    'cur_name_th', 'faculty_name_th',\n",
    "    'lecture_position', 'lecture_fname', 'lecture_lname',\n",
    "    'bachelor_degree', 'bachelor_institute', 'bachelor_gradyear',\n",
    "    'master_degree', 'master_institute', 'master_gradyear',\n",
    "    'doctor_degree', 'doctor_institute', 'doctor_graduate_year'\n",
    "]]\n",
    "\n",
    "# 💾 บันทึกผลลัพธ์\n",
    "final_df.to_csv(output_path, index=False, encoding='utf-8-sig')\n",
    "\n",
    "print(\"✅ Saved to professors_extracted.csv\")\n"
   ]
  },
  {
   "cell_type": "code",
   "execution_count": 6,
   "id": "67b650d6",
   "metadata": {},
   "outputs": [
    {
     "name": "stdout",
     "output_type": "stream",
     "text": [
      "           curr_id  row_count\n",
      "0    2509051100496         63\n",
      "1   25400051100189        164\n",
      "2   25400051100191        119\n",
      "3   25400051100369        123\n",
      "4   25400051100393         55\n",
      "5   25400051100415         70\n",
      "6   25410051100225         70\n",
      "7   25420051100193        311\n",
      "8   25470051100323         44\n",
      "9   25470051100378         71\n",
      "10  25470051100479         71\n",
      "11  25490051100461         42\n",
      "12  25500051100585         65\n",
      "13  25510051100351        123\n",
      "14  25510051108732        117\n",
      "15  25520051102624         85\n",
      "16  25520051102668        489\n",
      "17  25520051102679         69\n",
      "18  25520051102681         40\n",
      "19  25520051102815         63\n",
      "20  25570051100234         51\n",
      "21  25570051102304         35\n",
      "22  25570051102405         57\n",
      "23  25570051102416         62\n",
      "24  25590051100113         65\n",
      "25  25610051100036         44\n",
      "26  25610054001377         55\n",
      "27  25630051100104         59\n",
      "✅ บันทึกผลลัพธ์เรียบร้อยแล้วที่ courses_grouped_by_currid.csv\n"
     ]
    }
   ],
   "source": [
    "import pandas as pd\n",
    "\n",
    "# โหลดไฟล์\n",
    "df = pd.read_csv(r'C:\\DSI324_file\\data\\courses_yet.csv')\n",
    "\n",
    "# ตรวจสอบว่า curr_id มีอยู่หรือไม่\n",
    "if 'curr_id' in df.columns:\n",
    "    # Group และนับจำนวน row ต่อ curr_id\n",
    "    count_df = df.groupby('curr_id').size().reset_index(name='row_count')\n",
    "    \n",
    "    # แสดงผลลัพธ์\n",
    "    print(count_df)\n",
    "    \n",
    "    # ถ้าอยากบันทึกออกไฟล์ CSV\n",
    "    count_df.to_csv(r'C:\\DSI324_file\\data\\courses_grouped_by_currid.csv', index=False, encoding='utf-8-sig')\n",
    "    print(\"✅ บันทึกผลลัพธ์เรียบร้อยแล้วที่ courses_grouped_by_currid.csv\")\n",
    "else:\n",
    "    print(\"❌ ไม่พบคอลัมน์ชื่อ 'curr_id' ในไฟล์\")\n"
   ]
  },
  {
   "cell_type": "code",
   "execution_count": 9,
   "id": "42e8f588",
   "metadata": {},
   "outputs": [
    {
     "name": "stdout",
     "output_type": "stream",
     "text": [
      "📌 curr_id ที่อยู่ใน curriculum_metadata.csv แต่ไม่มีใน courses_yet.csv:\n",
      "['25550051100164']\n",
      "\n",
      "รวมทั้งหมด: 1 แถว\n",
      "✅ บันทึกไว้ที่ metadata_missing_courses.csv\n"
     ]
    }
   ],
   "source": [
    "import pandas as pd\n",
    "\n",
    "# โหลดทั้งสองไฟล์\n",
    "courses_df = pd.read_csv(r'C:\\DSI324_file\\data\\courses_yet.csv')\n",
    "meta_df = pd.read_csv(r'C:\\DSI324_file\\data\\curriculum_metadata.csv')\n",
    "\n",
    "# แปลง curr_id เป็น string เพื่อป้องกันปัญหาเชิง type\n",
    "courses_df['curr_id'] = courses_df['curr_id'].astype(str)\n",
    "meta_df['curr_id'] = meta_df['curr_id'].astype(str)\n",
    "\n",
    "# หาค่า curr_id ที่อยู่ใน curriculum_metadata แต่ไม่อยู่ใน courses_yet\n",
    "not_in_courses = set(meta_df['curr_id']) - set(courses_df['curr_id'])\n",
    "\n",
    "# กรองแถวเหล่านี้จาก metadata\n",
    "missing_courses_df = meta_df[meta_df['curr_id'].isin(not_in_courses)]\n",
    "\n",
    "# แสดงผล\n",
    "print(\"📌 curr_id ที่อยู่ใน curriculum_metadata.csv แต่ไม่มีใน courses_yet.csv:\")\n",
    "print(missing_courses_df['curr_id'].unique())\n",
    "print(f\"\\nรวมทั้งหมด: {len(missing_courses_df)} แถว\")\n",
    "\n",
    "# ถ้าต้องการบันทึกออกเป็นไฟล์ CSV\n",
    "missing_courses_df.to_csv(r'C:\\DSI324_file\\data\\metadata_missing_courses.csv', index=False, encoding='utf-8-sig')\n",
    "print(\"✅ บันทึกไว้ที่ metadata_missing_courses.csv\")\n",
    "\n"
   ]
  },
  {
   "cell_type": "code",
   "execution_count": 17,
   "id": "1a504821",
   "metadata": {},
   "outputs": [
    {
     "name": "stdout",
     "output_type": "stream",
     "text": [
      "📄 ข้อมูลที่พบใน curriculum_metadata.csv:\n",
      "                       faculty_name_th                        faculty_name_en  \\\n",
      "4          คณะสังคมวิทยาและมานุษยวิทยา  Faculty of Sociology and Anthropology   \n",
      "7   คณะสถาปัตยกรรมศาสตร์และการผังเมือง   Faculty of Architecture and Planning   \n",
      "10                       คณะศิลปศาสตร์                Faculty of Liberal Arts   \n",
      "11                       คณะศิลปศาสตร์                Faculty of Liberal Arts   \n",
      "16          คณะวิทยาศาสตร์และเทคโนโลยี      Faculty of Science and Technology   \n",
      "25          คณะวิทยาศาสตร์และเทคโนโลยี      Faculty of Science and Technology   \n",
      "\n",
      "           curr_id                                        cur_name_th  \\\n",
      "4   25510051100351  หลักสูตรสังคมวิทยาและมานุษยวิทยาบัณฑิต สาขาวิช...   \n",
      "7   25470051100479                 หลักสูตรภูมิสถาปัตยกรรมศาสตรบัณฑิต   \n",
      "10  25420051100193    หลักสูตรศิลปศาสตรบัณฑิต สาขาวิชาอาณาบริเวณศึกษา   \n",
      "11  25420051100193  หลักสูตรศิลปศาสตรบัณฑิต สาขาวิชาอังกฤษ-อเมริกั...   \n",
      "16  25520051102815  หลักสูตรวิทยาศาสตรบัณฑิต สาขาวิชาเทคโนโลยีเพื่...   \n",
      "25  25400051100393  หลักสูตรวิทยาศาสตรบัณฑิต สาขาวิชาฟิสิกส์อิเล็ก...   \n",
      "\n",
      "                                          cur_name_en  \\\n",
      "4         Bachelor of Arts Program in Social Research   \n",
      "7          Bachelor of Landscape Architecture Program   \n",
      "10           Bachelor of Arts Program in Area Studies   \n",
      "11  Bachelor of Arts Program in British and Americ...   \n",
      "16  Bachelor of Science Program in Sustainable Dev...   \n",
      "25  Bachelor of Science Program in Electronics Phy...   \n",
      "\n",
      "                                       degree_full_th  \\\n",
      "4   สังคมวิทยาและมานุษยวิทยาบัณฑิต (การวิจัยทางสังคม)   \n",
      "7                          ภูมิสถาปัตยกรรมศาสตรบัณฑิต   \n",
      "10                  ศิลปศาสตรบัณฑิต (อาณาบริเวณศึกษา)   \n",
      "11             ศิลปศาสตรบัณฑิต (อังกฤษ-อเมริกันศึกษา)   \n",
      "16   วิทยาศาสตรบัณฑิต (เทคโนโลยีเพื่อการพัฒนายั่งยืน)   \n",
      "25           วิทยาศาสตรบัณฑิต (ฟิสิกส์อิเล็กทรอนิกส์)   \n",
      "\n",
      "                                       degree_full_en  \\\n",
      "4                  Bachelor of Arts (Social Research)   \n",
      "7                  Bachelor of Landscape Architecture   \n",
      "10                    Bachelor of Arts (Area Studies)   \n",
      "11    Bachelor of Arts (British and American Studies)   \n",
      "16  Bachelor of Science (Sustainable Development T...   \n",
      "25          Bachelor of Science (Electronics Physics)   \n",
      "\n",
      "               degree_abr_th           degree_abr_en  \\\n",
      "4   สม.บ. (การวิจัยทางสังคม)  B.A. (Social Research)   \n",
      "7                    ภ.สถ.บ.                  B.L.A.   \n",
      "10                     ศศ.บ.                    B.A.   \n",
      "11                     ศศ.บ.                    B.A.   \n",
      "16                     วท.บ.                   B.Sc.   \n",
      "25                     วท.บ.                   B.Sc.   \n",
      "\n",
      "                                    curr_type  ...  expense-type  \\\n",
      "4                 หลักสูตรปริญญาตรีทางวิชาการ  ...          ปกติ   \n",
      "7   หลักสูตรปริญญาตรีทางวิชาชีพหรือปฏิบัติการ  ...         พิเศษ   \n",
      "10                หลักสูตรปริญญาตรีทางวิชาการ  ...   โครงการปกติ   \n",
      "11                หลักสูตรปริญญาตรีทางวิชาการ  ...  โครงการพิเศษ   \n",
      "16                หลักสูตรปริญญาตรีทางวิชาการ  ...   โครงการปกติ   \n",
      "25                หลักสูตรปริญญาตรีทางวิชาการ  ...   โครงการปกติ   \n",
      "\n",
      "                                    student-nation-id admit-plan max-years  \\\n",
      "4   รับทั้งนักศึกษาไทยและนักศึกษาต่างชาติ ที่สามาร...        100        16   \n",
      "7               รับทั้งนักศึกษาไทยและนักศึกษาต่างชาติ         35        16   \n",
      "10  รับทั้งนักศึกษาไทยและนักศึกษาต่างชาติ ที่สามาร...        215        16   \n",
      "11              รับทั้งนักศึกษาไทยและนักศึกษาต่างชาติ         60        16   \n",
      "16                                รับเฉพาะนักศึกษาไทย         50        16   \n",
      "25                                รับเฉพาะนักศึกษาไทย         40        16   \n",
      "\n",
      "   total-credits gen-ed-credits  req-credits  elec-credits  \\\n",
      "4            129             30           39            45   \n",
      "7            138             30          102             9   \n",
      "10           129             30           27            60   \n",
      "11           132             30           48            42   \n",
      "16           138             30           72            18   \n",
      "25           122             30           49            18   \n",
      "\n",
      "    internship-credits  coop-credits  \n",
      "4                    0             0  \n",
      "7                    0             0  \n",
      "10                   0             0  \n",
      "11                   0             0  \n",
      "16                   0             0  \n",
      "25                   0             0  \n",
      "\n",
      "[6 rows x 24 columns]\n",
      "✅ บันทึก matched_curr_ids.csv แล้ว\n"
     ]
    }
   ],
   "source": [
    "import pandas as pd\n",
    "\n",
    "# 🔹 กำหนด path ไปยังไฟล์ metadata\n",
    "metadata_path = r'C:\\DSI324_file\\data\\curriculum_metadata.csv'\n",
    "\n",
    "# 🔹 โหลด metadata\n",
    "meta_df = pd.read_csv(metadata_path)\n",
    "\n",
    "# 🔹 รายการ curr_id ที่คุณต้องการเช็ค\n",
    "target_curr_ids = [\n",
    "    '25510051100351', '25470051100479', '25420051100193',\n",
    "    '25520051102815', '25400051100393'\n",
    "]\n",
    "\n",
    "# 🔹 แปลง curr_id เป็น string เพื่อความแม่นยำ\n",
    "meta_df['curr_id'] = meta_df['curr_id'].astype(str)\n",
    "\n",
    "# 🔹 กรองเฉพาะแถวที่ curr_id อยู่ในรายการที่ต้องการ\n",
    "matched_rows = meta_df[meta_df['curr_id'].isin(target_curr_ids)]\n",
    "\n",
    "# 🔹 แสดงผล\n",
    "print(\"📄 ข้อมูลที่พบใน curriculum_metadata.csv:\")\n",
    "print(matched_rows)\n",
    "\n",
    "# 🔹 ถ้าต้องการบันทึกออก CSV\n",
    "matched_rows.to_csv(r'C:\\DSI324_file\\data\\matched_curr_ids.csv', index=False, encoding='utf-8-sig')\n",
    "print(\"✅ บันทึก matched_curr_ids.csv แล้ว\")\n"
   ]
  },
  {
   "cell_type": "code",
   "execution_count": 16,
   "id": "b5fef29a",
   "metadata": {},
   "outputs": [
    {
     "name": "stdout",
     "output_type": "stream",
     "text": [
      "🔍 พบ 0 แถวที่มี Missing Value:\n",
      "Empty DataFrame\n",
      "Columns: [curr_id, course_code, th_abv, th_name, en_name, course_type, credit, lect_hours, practice_hours, self_hours, th_desc, eng_desc, prerequisite]\n",
      "Index: []\n"
     ]
    }
   ],
   "source": [
    "import pandas as pd\n",
    "\n",
    "# 🔁 แก้ตรงนี้ให้เป็น path ของไฟล์ .csv ที่คุณต้องการเช็ค\n",
    "csv_path = r'C:\\DSI324_file\\data\\courses_yet.csv'\n",
    "\n",
    "# โหลดไฟล์\n",
    "df = pd.read_csv(csv_path)\n",
    "\n",
    "# แสดงเฉพาะแถวที่มี missing values\n",
    "missing_rows = df[df.isnull().any(axis=1)]\n",
    "\n",
    "# แสดงผลลัพธ์\n",
    "print(f\"🔍 พบ {len(missing_rows)} แถวที่มี Missing Value:\")\n",
    "print(missing_rows)\n"
   ]
  }
 ],
 "metadata": {
  "kernelspec": {
   "display_name": ".venv",
   "language": "python",
   "name": "python3"
  },
  "language_info": {
   "codemirror_mode": {
    "name": "ipython",
    "version": 3
   },
   "file_extension": ".py",
   "mimetype": "text/x-python",
   "name": "python",
   "nbconvert_exporter": "python",
   "pygments_lexer": "ipython3",
   "version": "3.13.3"
  }
 },
 "nbformat": 4,
 "nbformat_minor": 5
}
