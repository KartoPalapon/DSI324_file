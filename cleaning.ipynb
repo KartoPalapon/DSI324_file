{
 "cells": [
  {
   "cell_type": "code",
   "execution_count": 1,
   "id": "ce283a11",
   "metadata": {},
   "outputs": [
    {
     "name": "stdout",
     "output_type": "stream",
     "text": [
      "✅ Updated: careers.csv | Removed 53 rows.\n",
      "✅ Updated: collaboration.csv | Removed 5 rows.\n",
      "✅ Updated: courses.csv | Removed 411 rows.\n",
      "✅ Updated: curriculum_metadata.csv | Removed 4 rows.\n",
      "✅ Updated: curr_category.csv | Removed 5 rows.\n",
      "⚠️ Skipped: curr_langauges.csv - 'curr_id' not found.\n",
      "✅ Updated: curr_type_detail.csv | Removed 4 rows.\n",
      "⚠️ Skipped: faculty.csv - 'curr_id' not found.\n",
      "✅ Updated: learining_outcome.csv | Removed 59 rows.\n",
      "✅ Updated: mou.csv | Removed 5 rows.\n",
      "✅ Updated: professor.csv | Removed 25 rows.\n"
     ]
    }
   ],
   "source": [
    "import pandas as pd\n",
    "import os\n",
    "import glob\n",
    "\n",
    "# Path ไปยังโฟลเดอร์ที่เก็บไฟล์ CSV\n",
    "folder_path = r'C:\\DSI324_file\\data'\n",
    "\n",
    "# รายการ curr_id ที่ต้องการลบ\n",
    "bad_ids = [\"qqqqqqqqqqqqqq\", \"dddddddddddddd\", \"aaaaaaaaaaaaaa\", \"ssssssssssssss\"]\n",
    "\n",
    "# หาไฟล์ CSV ทั้งหมดในโฟลเดอร์\n",
    "csv_files = glob.glob(os.path.join(folder_path, '*.csv'))\n",
    "\n",
    "# วนลูปทำกับทุกไฟล์\n",
    "for file in csv_files:\n",
    "    try:\n",
    "        df = pd.read_csv(file)\n",
    "\n",
    "        if 'curr_id' in df.columns:\n",
    "            original_len = len(df)\n",
    "            df = df[~df['curr_id'].astype(str).isin(bad_ids)]\n",
    "            removed = original_len - len(df)\n",
    "\n",
    "            # Save กลับทับไฟล์เดิม\n",
    "            df.to_csv(file, index=False, encoding='utf-8-sig')\n",
    "            print(f\"✅ Updated: {os.path.basename(file)} | Removed {removed} rows.\")\n",
    "        else:\n",
    "            print(f\"⚠️ Skipped: {os.path.basename(file)} - 'curr_id' not found.\")\n",
    "    except Exception as e:\n",
    "        print(f\"❌ Error processing {file}: {e}\")\n"
   ]
  },
  {
   "cell_type": "code",
   "execution_count": 22,
   "id": "d96fe504",
   "metadata": {},
   "outputs": [
    {
     "name": "stdout",
     "output_type": "stream",
     "text": [
      "✅ No missing in file: careers.csv\n",
      "✅ No missing in file: collaboration.csv\n",
      "🔍 Missing found in file: courses.csv\n",
      "course_code         83\n",
      "th_abv               3\n",
      "th_name             74\n",
      "en_name             74\n",
      "course_type       2252\n",
      "credit              71\n",
      "lect_hours          71\n",
      "practice_hours      71\n",
      "self_hours           1\n",
      "th_desc             81\n",
      "eng_desc            90\n",
      "dtype: int64\n",
      "----------------------------------------\n",
      "🔍 Missing found in file: curriculum_metadata.csv\n",
      "faculty_id    2\n",
      "dtype: int64\n",
      "----------------------------------------\n",
      "✅ No missing in file: curr_category.csv\n",
      "✅ No missing in file: curr_langauges.csv\n",
      "✅ No missing in file: curr_type_detail.csv\n",
      "✅ No missing in file: faculty.csv\n",
      "✅ No missing in file: learining_outcome.csv\n",
      "✅ No missing in file: mou.csv\n",
      "🔍 Missing found in file: responsible_lectures.csv\n",
      "bachelor_degree          2\n",
      "bachelor_institute       2\n",
      "bachelor_gradyear        2\n",
      "doctor_degree            2\n",
      "doctor_institute         1\n",
      "doctor_graduate_year     3\n",
      "faculty_id              17\n",
      "dtype: int64\n",
      "----------------------------------------\n"
     ]
    }
   ],
   "source": [
    "import pandas as pd\n",
    "import os\n",
    "import glob\n",
    "\n",
    "# Path ของโฟลเดอร์ที่เก็บ CSV\n",
    "folder_path = r'C:\\DSI324_file\\data'\n",
    "\n",
    "# ค้นหาไฟล์ .csv ทั้งหมดใน path\n",
    "csv_files = glob.glob(os.path.join(folder_path, '*.csv'))\n",
    "\n",
    "# วนลูปตรวจสอบแต่ละไฟล์\n",
    "for file in csv_files:\n",
    "    try:\n",
    "        df = pd.read_csv(file)\n",
    "\n",
    "        # เช็คว่ามี missing หรือไม่\n",
    "        missing = df.isnull().sum()\n",
    "        missing = missing[missing > 0]  # เอาเฉพาะที่มี missing\n",
    "\n",
    "        if not missing.empty:\n",
    "            print(f\"🔍 Missing found in file: {os.path.basename(file)}\")\n",
    "            print(missing)\n",
    "            print(\"-\" * 40)\n",
    "        else:\n",
    "            print(f\"✅ No missing in file: {os.path.basename(file)}\")\n",
    "    except Exception as e:\n",
    "        print(f\"❌ Error reading {file}: {e}\")\n"
   ]
  },
  {
   "cell_type": "code",
   "execution_count": 19,
   "id": "5a15e010",
   "metadata": {},
   "outputs": [
    {
     "name": "stdout",
     "output_type": "stream",
     "text": [
      "✅ No 'Unnamed: 0' in careers.csv\n",
      "✅ No 'Unnamed: 0' in collaboration.csv\n",
      "✅ No 'Unnamed: 0' in courses.csv\n",
      "✅ No 'Unnamed: 0' in curriculum_metadata.csv\n",
      "✅ No 'Unnamed: 0' in curr_category.csv\n",
      "✅ No 'Unnamed: 0' in curr_langauges.csv\n",
      "✅ No 'Unnamed: 0' in curr_type_detail.csv\n",
      "✅ No 'Unnamed: 0' in faculty.csv\n",
      "✅ No 'Unnamed: 0' in learining_outcome.csv\n",
      "✅ No 'Unnamed: 0' in mou.csv\n",
      "✅ No 'Unnamed: 0' in responsible_lectures.csv\n"
     ]
    }
   ],
   "source": [
    "import pandas as pd\n",
    "import os\n",
    "import glob\n",
    "\n",
    "# Path ไปยังโฟลเดอร์ที่เก็บไฟล์ CSV\n",
    "folder_path = r'C:\\DSI324_file\\data'\n",
    "\n",
    "# ค้นหาไฟล์ CSV ทั้งหมด\n",
    "csv_files = glob.glob(os.path.join(folder_path, '*.csv'))\n",
    "\n",
    "# วนลูปแต่ละไฟล์\n",
    "for file in csv_files:\n",
    "    try:\n",
    "        df = pd.read_csv(file)\n",
    "\n",
    "        if 'Unnamed: 0' in df.columns:\n",
    "            df.drop(columns=['Unnamed: 0'], inplace=True)\n",
    "            df.to_csv(file, index=False, encoding='utf-8-sig')\n",
    "            print(f\"🧹 Removed 'Unnamed: 0' from {os.path.basename(file)}\")\n",
    "        else:\n",
    "            print(f\"✅ No 'Unnamed: 0' in {os.path.basename(file)}\")\n",
    "    except Exception as e:\n",
    "        print(f\"❌ Error processing {file}: {e}\")\n"
   ]
  },
  {
   "cell_type": "code",
   "execution_count": 21,
   "id": "dd1b610e",
   "metadata": {},
   "outputs": [
    {
     "name": "stdout",
     "output_type": "stream",
     "text": [
      "⚠️ No 'prerequisite' column in careers.csv\n",
      "⚠️ No 'prerequisite' column in collaboration.csv\n",
      "✅ Filled 0 missing in 'prerequisite' in courses.csv\n",
      "⚠️ No 'prerequisite' column in curriculum_metadata.csv\n",
      "⚠️ No 'prerequisite' column in curr_category.csv\n",
      "⚠️ No 'prerequisite' column in curr_langauges.csv\n",
      "⚠️ No 'prerequisite' column in curr_type_detail.csv\n",
      "⚠️ No 'prerequisite' column in faculty.csv\n",
      "⚠️ No 'prerequisite' column in learining_outcome.csv\n",
      "⚠️ No 'prerequisite' column in mou.csv\n",
      "⚠️ No 'prerequisite' column in responsible_lectures.csv\n"
     ]
    },
    {
     "name": "stderr",
     "output_type": "stream",
     "text": [
      "C:\\Users\\U s e r\\AppData\\Local\\Temp\\ipykernel_20080\\3842487835.py:17: FutureWarning: A value is trying to be set on a copy of a DataFrame or Series through chained assignment using an inplace method.\n",
      "The behavior will change in pandas 3.0. This inplace method will never work because the intermediate object on which we are setting values always behaves as a copy.\n",
      "\n",
      "For example, when doing 'df[col].method(value, inplace=True)', try using 'df.method({col: value}, inplace=True)' or df[col] = df[col].method(value) instead, to perform the operation inplace on the original object.\n",
      "\n",
      "\n",
      "  df['prerequisite'].fillna(\"ไม่มี\", inplace=True)\n"
     ]
    }
   ],
   "source": [
    "import pandas as pd\n",
    "import os\n",
    "import glob\n",
    "\n",
    "# Path ไปยังโฟลเดอร์ที่เก็บ CSV\n",
    "folder_path = r'C:\\DSI324_file\\data'\n",
    "\n",
    "# หาไฟล์ CSV ทั้งหมด\n",
    "csv_files = glob.glob(os.path.join(folder_path, '*.csv'))\n",
    "\n",
    "for file in csv_files:\n",
    "    try:\n",
    "        df = pd.read_csv(file)\n",
    "\n",
    "        if 'prerequisite' in df.columns:\n",
    "            missing_count = df['prerequisite'].isna().sum()\n",
    "            df['prerequisite'].fillna(\"ไม่มี\", inplace=True)\n",
    "            df.to_csv(file, index=False, encoding='utf-8-sig')\n",
    "            print(f\"✅ Filled {missing_count} missing in 'prerequisite' in {os.path.basename(file)}\")\n",
    "        else:\n",
    "            print(f\"⚠️ No 'prerequisite' column in {os.path.basename(file)}\")\n",
    "    except Exception as e:\n",
    "        print(f\"❌ Error processing {file}: {e}\")\n"
   ]
  },
  {
   "cell_type": "code",
   "execution_count": 24,
   "id": "a96fe378",
   "metadata": {},
   "outputs": [
    {
     "name": "stdout",
     "output_type": "stream",
     "text": [
      "✅ Updated: careers.csv | Removed 0 rows\n",
      "✅ Updated: collaboration.csv | Removed 0 rows\n",
      "✅ Updated: courses.csv | Removed 0 rows\n",
      "✅ Updated: curr_category.csv | Removed 0 rows\n",
      "⚠️ Skipped: curr_langauges.csv - No 'curr_id' column found\n",
      "✅ Updated: curr_type_detail.csv | Removed 0 rows\n",
      "⚠️ Skipped: faculty.csv - No 'curr_id' column found\n",
      "✅ Updated: learining_outcome.csv | Removed 0 rows\n",
      "✅ Updated: mou.csv | Removed 0 rows\n",
      "✅ Updated: responsible_lectures.csv | Removed 0 rows\n"
     ]
    }
   ],
   "source": [
    "import pandas as pd\n",
    "import os\n",
    "import glob\n",
    "\n",
    "# --- Paths ---\n",
    "folder_path = r'C:\\DSI324_file\\data'\n",
    "metadata_file = os.path.join(folder_path, 'curriculum_metadata.csv')\n",
    "\n",
    "# --- Load curriculum_metadata.csv ---\n",
    "try:\n",
    "    meta_df = pd.read_csv(metadata_file)\n",
    "    valid_curr_ids = set(meta_df['curr_id'].astype(str))\n",
    "except Exception as e:\n",
    "    print(f\"❌ Error loading curriculum_metadata.csv: {e}\")\n",
    "    valid_curr_ids = set()\n",
    "\n",
    "# --- Process other CSV files ---\n",
    "csv_files = glob.glob(os.path.join(folder_path, '*.csv'))\n",
    "\n",
    "for file in csv_files:\n",
    "    if 'curriculum_metadata.csv' in file:\n",
    "        continue  # ข้ามไฟล์ metadata เอง\n",
    "\n",
    "    try:\n",
    "        df = pd.read_csv(file)\n",
    "\n",
    "        if 'curr_id' in df.columns:\n",
    "            original_len = len(df)\n",
    "            df = df[df['curr_id'].astype(str).isin(valid_curr_ids)]\n",
    "            removed = original_len - len(df)\n",
    "            df.to_csv(file, index=False, encoding='utf-8-sig')\n",
    "            print(f\"✅ Updated: {os.path.basename(file)} | Removed {removed} rows\")\n",
    "        else:\n",
    "            print(f\"⚠️ Skipped: {os.path.basename(file)} - No 'curr_id' column found\")\n",
    "    except Exception as e:\n",
    "        print(f\"❌ Error processing {file}: {e}\")\n"
   ]
  },
  {
   "cell_type": "code",
   "execution_count": 26,
   "id": "7d7087db",
   "metadata": {},
   "outputs": [],
   "source": [
    "co = pd.read_csv(\"data/courses.csv\")"
   ]
  },
  {
   "cell_type": "code",
   "execution_count": null,
   "id": "b5fef29a",
   "metadata": {},
   "outputs": [],
   "source": []
  }
 ],
 "metadata": {
  "kernelspec": {
   "display_name": ".venv",
   "language": "python",
   "name": "python3"
  },
  "language_info": {
   "codemirror_mode": {
    "name": "ipython",
    "version": 3
   },
   "file_extension": ".py",
   "mimetype": "text/x-python",
   "name": "python",
   "nbconvert_exporter": "python",
   "pygments_lexer": "ipython3",
   "version": "3.13.3"
  }
 },
 "nbformat": 4,
 "nbformat_minor": 5
}
