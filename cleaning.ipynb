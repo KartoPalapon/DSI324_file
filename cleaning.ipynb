{
 "cells": [
  {
   "cell_type": "code",
   "execution_count": 6,
   "id": "ce283a11",
   "metadata": {},
   "outputs": [
    {
     "name": "stdout",
     "output_type": "stream",
     "text": [
      "⚠️ Skipped: careers_extracted.csv - 'curr_id' not found.\n",
      "⚠️ Skipped: courses_extracted.csv - 'curr_id' not found.\n",
      "✅ Updated: curriculum น่าจะเสร็จมั้ง.csv | Removed 0 rows.\n",
      "✅ Updated: curriculum_metadata.csv | Removed 0 rows.\n",
      "⚠️ Skipped: PLOs_extracted.csv - 'curr_id' not found.\n",
      "⚠️ Skipped: professors_extracted.csv - 'curr_id' not found.\n"
     ]
    }
   ],
   "source": [
    "import pandas as pd\n",
    "import os\n",
    "import glob\n",
    "\n",
    "# Path ไปยังโฟลเดอร์ที่เก็บไฟล์ CSV\n",
    "folder_path = r'C:\\DSI324_file\\data'\n",
    "\n",
    "# รายการ curr_id ที่ต้องการลบ\n",
    "bad_ids = [\"qqqqqqqqqqqqqq\", \"dddddddddddddd\", \"aaaaaaaaaaaaaa\", \"ssssssssssssss\"]\n",
    "\n",
    "# หาไฟล์ CSV ทั้งหมดในโฟลเดอร์\n",
    "csv_files = glob.glob(os.path.join(folder_path, '*.csv'))\n",
    "\n",
    "# วนลูปทำกับทุกไฟล์\n",
    "for file in csv_files:\n",
    "    try:\n",
    "        df = pd.read_csv(file)\n",
    "\n",
    "        if 'curr_id' in df.columns:\n",
    "            original_len = len(df)\n",
    "            df = df[~df['curr_id'].astype(str).isin(bad_ids)]\n",
    "            removed = original_len - len(df)\n",
    "\n",
    "            # Save กลับทับไฟล์เดิม\n",
    "            df.to_csv(file, index=False, encoding='utf-8-sig')\n",
    "            print(f\"✅ Updated: {os.path.basename(file)} | Removed {removed} rows.\")\n",
    "        else:\n",
    "            print(f\"⚠️ Skipped: {os.path.basename(file)} - 'curr_id' not found.\")\n",
    "    except Exception as e:\n",
    "        print(f\"❌ Error processing {file}: {e}\")\n"
   ]
  },
  {
   "cell_type": "code",
   "execution_count": 25,
   "id": "d96fe504",
   "metadata": {},
   "outputs": [
    {
     "name": "stdout",
     "output_type": "stream",
     "text": [
      "✅ No missing in file: careers.csv\n",
      "✅ No missing in file: collaboration.csv\n",
      "🔍 Missing found in file: courses.csv\n",
      "course_code         83\n",
      "th_abv               3\n",
      "th_name             74\n",
      "en_name             74\n",
      "course_type       2252\n",
      "credit              71\n",
      "lect_hours          71\n",
      "practice_hours      71\n",
      "self_hours           1\n",
      "th_desc             81\n",
      "eng_desc            90\n",
      "dtype: int64\n",
      "----------------------------------------\n",
      "✅ No missing in file: curriculum.csv\n",
      "✅ No missing in file: curr_category.csv\n",
      "✅ No missing in file: curr_langauges.csv\n",
      "✅ No missing in file: curr_type_details.csv\n",
      "✅ No missing in file: faculty.csv\n",
      "✅ No missing in file: learning_outcome.csv\n",
      "✅ No missing in file: MOU.csv\n",
      "✅ No missing in file: responsible_lectures.csv\n"
     ]
    }
   ],
   "source": [
    "import pandas as pd\n",
    "import os\n",
    "import glob\n",
    "\n",
    "# Path ของโฟลเดอร์ที่เก็บ CSV\n",
    "folder_path = r'C:\\DSI324_file\\data'\n",
    "\n",
    "# ค้นหาไฟล์ .csv ทั้งหมดใน path\n",
    "csv_files = glob.glob(os.path.join(folder_path, '*.csv'))\n",
    "\n",
    "# วนลูปตรวจสอบแต่ละไฟล์\n",
    "for file in csv_files:\n",
    "    try:\n",
    "        df = pd.read_csv(file)\n",
    "\n",
    "        # เช็คว่ามี missing หรือไม่\n",
    "        missing = df.isnull().sum()\n",
    "        missing = missing[missing > 0]  # เอาเฉพาะที่มี missing\n",
    "\n",
    "        if not missing.empty:\n",
    "            print(f\"🔍 Missing found in file: {os.path.basename(file)}\")\n",
    "            print(missing)\n",
    "            print(\"-\" * 40)\n",
    "        else:\n",
    "            print(f\"✅ No missing in file: {os.path.basename(file)}\")\n",
    "    except Exception as e:\n",
    "        print(f\"❌ Error reading {file}: {e}\")\n"
   ]
  },
  {
   "cell_type": "code",
   "execution_count": 4,
   "id": "5a15e010",
   "metadata": {},
   "outputs": [
    {
     "name": "stdout",
     "output_type": "stream",
     "text": [
      "✅ No 'Unnamed: 0' in careers_extracted.csv\n",
      "✅ No 'Unnamed: 0' in courses_extracted.csv\n",
      "✅ No 'Unnamed: 0' in curriculum_metadata.csv\n",
      "✅ No 'Unnamed: 0' in PLOs_extracted.csv\n",
      "✅ No 'Unnamed: 0' in professors_extracted.csv\n",
      "✅ No 'Unnamed: 0' in responsible_lectures ใหม่ที่น่าจะเสร็จละถ้าไม่พลาด.csv\n"
     ]
    }
   ],
   "source": [
    "import pandas as pd\n",
    "import os\n",
    "import glob\n",
    "\n",
    "# Path ไปยังโฟลเดอร์ที่เก็บไฟล์ CSV\n",
    "folder_path = r'C:\\DSI324_file\\data'\n",
    "\n",
    "# ค้นหาไฟล์ CSV ทั้งหมด\n",
    "csv_files = glob.glob(os.path.join(folder_path, '*.csv'))\n",
    "\n",
    "# วนลูปแต่ละไฟล์\n",
    "for file in csv_files:\n",
    "    try:\n",
    "        df = pd.read_csv(file)\n",
    "\n",
    "        if 'Unnamed: 0' in df.columns:\n",
    "            df.drop(columns=['Unnamed: 0'], inplace=True)\n",
    "            df.to_csv(file, index=False, encoding='utf-8-sig')\n",
    "            print(f\"🧹 Removed 'Unnamed: 0' from {os.path.basename(file)}\")\n",
    "        else:\n",
    "            print(f\"✅ No 'Unnamed: 0' in {os.path.basename(file)}\")\n",
    "    except Exception as e:\n",
    "        print(f\"❌ Error processing {file}: {e}\")\n"
   ]
  },
  {
   "cell_type": "code",
   "execution_count": 32,
   "id": "dd1b610e",
   "metadata": {},
   "outputs": [
    {
     "name": "stdout",
     "output_type": "stream",
     "text": [
      "⚠️ No 'prerequisite' column in careers_extracted.csv\n",
      "✅ Filled 71 missing in 'prerequisite' in courses_extracted.csv\n",
      "⚠️ No 'prerequisite' column in curriculum_metadata.csv\n",
      "⚠️ No 'prerequisite' column in PLOs_extracted.csv\n",
      "⚠️ No 'prerequisite' column in professors_extracted.csv\n"
     ]
    },
    {
     "name": "stderr",
     "output_type": "stream",
     "text": [
      "C:\\Users\\U s e r\\AppData\\Local\\Temp\\ipykernel_20080\\3842487835.py:17: FutureWarning: A value is trying to be set on a copy of a DataFrame or Series through chained assignment using an inplace method.\n",
      "The behavior will change in pandas 3.0. This inplace method will never work because the intermediate object on which we are setting values always behaves as a copy.\n",
      "\n",
      "For example, when doing 'df[col].method(value, inplace=True)', try using 'df.method({col: value}, inplace=True)' or df[col] = df[col].method(value) instead, to perform the operation inplace on the original object.\n",
      "\n",
      "\n",
      "  df['prerequisite'].fillna(\"ไม่มี\", inplace=True)\n"
     ]
    }
   ],
   "source": [
    "import pandas as pd\n",
    "import os\n",
    "import glob\n",
    "\n",
    "# Path ไปยังโฟลเดอร์ที่เก็บ CSV\n",
    "folder_path = r'C:\\DSI324_file\\data'\n",
    "\n",
    "# หาไฟล์ CSV ทั้งหมด\n",
    "csv_files = glob.glob(os.path.join(folder_path, '*.csv'))\n",
    "\n",
    "for file in csv_files:\n",
    "    try:\n",
    "        df = pd.read_csv(file)\n",
    "\n",
    "        if 'prerequisite' in df.columns:\n",
    "            missing_count = df['prerequisite'].isna().sum()\n",
    "            df['prerequisite'].fillna(\"ไม่มี\", inplace=True)\n",
    "            df.to_csv(file, index=False, encoding='utf-8-sig')\n",
    "            print(f\"✅ Filled {missing_count} missing in 'prerequisite' in {os.path.basename(file)}\")\n",
    "        else:\n",
    "            print(f\"⚠️ No 'prerequisite' column in {os.path.basename(file)}\")\n",
    "    except Exception as e:\n",
    "        print(f\"❌ Error processing {file}: {e}\")\n"
   ]
  },
  {
   "cell_type": "code",
   "execution_count": 24,
   "id": "a96fe378",
   "metadata": {},
   "outputs": [
    {
     "name": "stdout",
     "output_type": "stream",
     "text": [
      "✅ Updated: careers.csv | Removed 0 rows\n",
      "✅ Updated: collaboration.csv | Removed 0 rows\n",
      "✅ Updated: courses.csv | Removed 0 rows\n",
      "✅ Updated: curr_category.csv | Removed 0 rows\n",
      "⚠️ Skipped: curr_langauges.csv - No 'curr_id' column found\n",
      "✅ Updated: curr_type_detail.csv | Removed 0 rows\n",
      "⚠️ Skipped: faculty.csv - No 'curr_id' column found\n",
      "✅ Updated: learining_outcome.csv | Removed 0 rows\n",
      "✅ Updated: mou.csv | Removed 0 rows\n",
      "✅ Updated: responsible_lectures.csv | Removed 0 rows\n"
     ]
    }
   ],
   "source": [
    "import pandas as pd\n",
    "import os\n",
    "import glob\n",
    "\n",
    "# --- Paths ---\n",
    "folder_path = r'C:\\DSI324_file\\data'\n",
    "metadata_file = os.path.join(folder_path, 'curriculum_metadata.csv')\n",
    "\n",
    "# --- Load curriculum_metadata.csv ---\n",
    "try:\n",
    "    meta_df = pd.read_csv(metadata_file)\n",
    "    valid_curr_ids = set(meta_df['curr_id'].astype(str))\n",
    "except Exception as e:\n",
    "    print(f\"❌ Error loading curriculum_metadata.csv: {e}\")\n",
    "    valid_curr_ids = set()\n",
    "\n",
    "# --- Process other CSV files ---\n",
    "csv_files = glob.glob(os.path.join(folder_path, '*.csv'))\n",
    "\n",
    "for file in csv_files:\n",
    "    if 'curriculum_metadata.csv' in file:\n",
    "        continue  # ข้ามไฟล์ metadata เอง\n",
    "\n",
    "    try:\n",
    "        df = pd.read_csv(file)\n",
    "\n",
    "        if 'curr_id' in df.columns:\n",
    "            original_len = len(df)\n",
    "            df = df[df['curr_id'].astype(str).isin(valid_curr_ids)]\n",
    "            removed = original_len - len(df)\n",
    "            df.to_csv(file, index=False, encoding='utf-8-sig')\n",
    "            print(f\"✅ Updated: {os.path.basename(file)} | Removed {removed} rows\")\n",
    "        else:\n",
    "            print(f\"⚠️ Skipped: {os.path.basename(file)} - No 'curr_id' column found\")\n",
    "    except Exception as e:\n",
    "        print(f\"❌ Error processing {file}: {e}\")\n"
   ]
  },
  {
   "cell_type": "code",
   "execution_count": 19,
   "id": "b5fef29a",
   "metadata": {},
   "outputs": [
    {
     "name": "stdout",
     "output_type": "stream",
     "text": [
      "🔍 พบ 0 แถวที่มี Missing Value:\n",
      "Empty DataFrame\n",
      "Columns: [faculty_name_th, faculty_name_en, curr_id, cur_name_th, cur_name_en, degree_full_th, degree_full_en, degree_abr_th, degree_abr_en, curr_type, lang, campus, approve-date, first-open-term, expense-type, student-nation-id, admit-plan, max-years, total-credits, gen-ed-credits, req-credits, elec-credits, internship-credits, coop-credits]\n",
      "Index: []\n",
      "\n",
      "[0 rows x 24 columns]\n"
     ]
    }
   ],
   "source": [
    "import pandas as pd\n",
    "\n",
    "# 🔁 แก้ตรงนี้ให้เป็น path ของไฟล์ .csv ที่คุณต้องการเช็ค\n",
    "csv_path = r'C:\\DSI324_file\\data\\curriculum_metadata.csv'\n",
    "\n",
    "# โหลดไฟล์\n",
    "df = pd.read_csv(csv_path)\n",
    "\n",
    "# แสดงเฉพาะแถวที่มี missing values\n",
    "missing_rows = df[df.isnull().any(axis=1)]\n",
    "\n",
    "# แสดงผลลัพธ์\n",
    "print(f\"🔍 พบ {len(missing_rows)} แถวที่มี Missing Value:\")\n",
    "print(missing_rows)\n"
   ]
  },
  {
   "cell_type": "code",
   "execution_count": 18,
   "id": "d1e23b13",
   "metadata": {},
   "outputs": [
    {
     "name": "stdout",
     "output_type": "stream",
     "text": [
      "✅ ลบแถวที่มี missing value เรียบร้อยแล้ว\n"
     ]
    }
   ],
   "source": [
    "import pandas as pd\n",
    "\n",
    "# โหลดไฟล์ CSV\n",
    "df = pd.read_csv(\"C:/DSI324_file/data/curriculum_metadata.csv\")\n",
    "\n",
    "# ลบแถวที่มี missing (NaN) อย่างน้อย 1 ค่า\n",
    "df_cleaned = df.dropna()\n",
    "\n",
    "# บันทึกกลับไปที่ไฟล์ใหม่ หรือไฟล์เดิม\n",
    "df_cleaned.to_csv(\"C:/DSI324_file/data/curriculum_metadata_cleaned.csv\", index=False, encoding=\"utf-8-sig\")\n",
    "\n",
    "print(\"✅ ลบแถวที่มี missing value เรียบร้อยแล้ว\")\n"
   ]
  },
  {
   "cell_type": "code",
   "execution_count": 22,
   "id": "92f3dad8",
   "metadata": {},
   "outputs": [
    {
     "name": "stdout",
     "output_type": "stream",
     "text": [
      "✅ สร้างและแทนที่ 'lect_id' เรียบร้อยแล้ว\n"
     ]
    }
   ],
   "source": [
    "import pandas as pd\n",
    "import random\n",
    "\n",
    "# โหลดไฟล์\n",
    "file_path = r'C:\\DSI324_file\\data\\responsible_lectures.csv'\n",
    "df = pd.read_csv(file_path)\n",
    "\n",
    "# ตรวจสอบว่ามีคอลัมน์ที่จำเป็นหรือไม่\n",
    "if 'faculty_id' not in df.columns or 'lect_id' not in df.columns:\n",
    "    raise KeyError(\"⚠️ ต้องมีทั้ง 'faculty_id' และ 'lect_id' ในไฟล์\")\n",
    "\n",
    "# สร้าง lect_id ใหม่ตาม faculty_id + สุ่มเลข 3 หลัก\n",
    "def generate_lect_id(faculty_id):\n",
    "    try:\n",
    "        faculty_str = str(int(faculty_id)).zfill(1)  # เอาเฉพาะเลขตัวหน้า\n",
    "        random_digits = str(random.randint(0, 999)).zfill(3)\n",
    "        return faculty_str + random_digits\n",
    "    except:\n",
    "        return \"0000\"\n",
    "\n",
    "df['lect_id'] = df['faculty_id'].apply(generate_lect_id)\n",
    "\n",
    "# บันทึกไฟล์ทับเดิม (หรือตั้งชื่อใหม่ก็ได้)\n",
    "df.to_csv(file_path, index=False, encoding='utf-8-sig')\n",
    "\n",
    "print(\"✅ สร้างและแทนที่ 'lect_id' เรียบร้อยแล้ว\")\n"
   ]
  },
  {
   "cell_type": "code",
   "execution_count": 23,
   "id": "dade16c1",
   "metadata": {},
   "outputs": [
    {
     "name": "stdout",
     "output_type": "stream",
     "text": [
      "✅ Saved to professors_extracted.csv\n"
     ]
    }
   ],
   "source": [
    "import pandas as pd\n",
    "\n",
    "# 📂 โหลดไฟล์\n",
    "lectures_path = r'C:\\DSI324_file\\data\\responsible_lectures.csv'\n",
    "metadata_path = r'C:\\DSI324_file\\data\\curriculum_metadata.csv'\n",
    "output_path = r'C:\\DSI324_file\\data\\professors_extracted.csv'\n",
    "\n",
    "# 🧠 อ่านไฟล์\n",
    "lect_df = pd.read_csv(lectures_path)\n",
    "meta_df = pd.read_csv(metadata_path)\n",
    "\n",
    "# 🧩 Join ด้วย curr_id\n",
    "merged_df = lect_df.merge(meta_df[['curr_id', 'cur_name_th', 'faculty_name_th']], on='curr_id', how='left')\n",
    "\n",
    "# 🧹 เลือกเฉพาะคอลัมน์ที่ต้องการ\n",
    "final_df = merged_df[[\n",
    "    'cur_name_th', 'faculty_name_th',\n",
    "    'lecture_position', 'lecture_fname', 'lecture_lname',\n",
    "    'bachelor_degree', 'bachelor_institute', 'bachelor_gradyear',\n",
    "    'master_degree', 'master_institute', 'master_gradyear',\n",
    "    'doctor_degree', 'doctor_institute', 'doctor_graduate_year'\n",
    "]]\n",
    "\n",
    "# 💾 บันทึกผลลัพธ์\n",
    "final_df.to_csv(output_path, index=False, encoding='utf-8-sig')\n",
    "\n",
    "print(\"✅ Saved to professors_extracted.csv\")\n"
   ]
  }
 ],
 "metadata": {
  "kernelspec": {
   "display_name": ".venv",
   "language": "python",
   "name": "python3"
  },
  "language_info": {
   "codemirror_mode": {
    "name": "ipython",
    "version": 3
   },
   "file_extension": ".py",
   "mimetype": "text/x-python",
   "name": "python",
   "nbconvert_exporter": "python",
   "pygments_lexer": "ipython3",
   "version": "3.13.3"
  }
 },
 "nbformat": 4,
 "nbformat_minor": 5
}
